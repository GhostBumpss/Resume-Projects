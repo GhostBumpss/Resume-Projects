{
 "cells": [
  {
   "cell_type": "code",
   "execution_count": 2,
   "metadata": {},
   "outputs": [],
   "source": [
    "import pandas as pd\n",
    "import ast"
   ]
  },
  {
   "cell_type": "code",
   "execution_count": 3,
   "metadata": {},
   "outputs": [],
   "source": [
    "events_df = pd.read_csv(\"./events.csv\", header=0)"
   ]
  },
  {
   "cell_type": "code",
   "execution_count": 4,
   "metadata": {},
   "outputs": [],
   "source": [
    "# Converting the value column from string to dictionary\n",
    "events_df[\"value\"] = events_df[\"value\"].apply(lambda x: ast.literal_eval(x))"
   ]
  },
  {
   "cell_type": "code",
   "execution_count": 5,
   "metadata": {},
   "outputs": [
    {
     "name": "stdout",
     "output_type": "stream",
     "text": [
      "['offer received' 'offer viewed' 'transaction' 'offer completed']\n"
     ]
    }
   ],
   "source": [
    "distinct_events = events_df[\"event\"].unique()\n",
    "print(distinct_events)"
   ]
  },
  {
   "cell_type": "code",
   "execution_count": 6,
   "metadata": {},
   "outputs": [],
   "source": [
    "# Separate dataframes for different events\n",
    "events_df_offer_received = events_df[events_df[\"event\"]==distinct_events[0]]\n",
    "events_df_offer_viewed = events_df[events_df[\"event\"]==distinct_events[1]]\n",
    "events_df_transaction = events_df[events_df[\"event\"]==distinct_events[2]]\n",
    "events_df_offer_completed = events_df[events_df[\"event\"]==distinct_events[3]]"
   ]
  },
  {
   "cell_type": "code",
   "execution_count": 7,
   "metadata": {},
   "outputs": [
    {
     "name": "stderr",
     "output_type": "stream",
     "text": [
      "C:\\Users\\saika\\AppData\\Local\\Temp\\ipykernel_4976\\3320649829.py:2: SettingWithCopyWarning: \n",
      "A value is trying to be set on a copy of a slice from a DataFrame.\n",
      "Try using .loc[row_indexer,col_indexer] = value instead\n",
      "\n",
      "See the caveats in the documentation: https://pandas.pydata.org/pandas-docs/stable/user_guide/indexing.html#returning-a-view-versus-a-copy\n",
      "  events_df_offer_completed['offer_id'] = events_df_offer_completed['value'].apply(lambda x: x.get('offer_id', 'N/A'))\n",
      "C:\\Users\\saika\\AppData\\Local\\Temp\\ipykernel_4976\\3320649829.py:3: SettingWithCopyWarning: \n",
      "A value is trying to be set on a copy of a slice from a DataFrame.\n",
      "Try using .loc[row_indexer,col_indexer] = value instead\n",
      "\n",
      "See the caveats in the documentation: https://pandas.pydata.org/pandas-docs/stable/user_guide/indexing.html#returning-a-view-versus-a-copy\n",
      "  events_df_offer_completed['reward'] = events_df_offer_completed['value'].apply(lambda x: x.get('reward', '0'))\n",
      "C:\\Users\\saika\\AppData\\Local\\Temp\\ipykernel_4976\\3320649829.py:4: SettingWithCopyWarning: \n",
      "A value is trying to be set on a copy of a slice from a DataFrame.\n",
      "Try using .loc[row_indexer,col_indexer] = value instead\n",
      "\n",
      "See the caveats in the documentation: https://pandas.pydata.org/pandas-docs/stable/user_guide/indexing.html#returning-a-view-versus-a-copy\n",
      "  events_df_offer_completed['amount'] = events_df_offer_completed['value'].apply(lambda x: x.get('amount', '0'))\n"
     ]
    }
   ],
   "source": [
    "# Extracting value into different appropriate columns\n",
    "events_df_offer_completed['offer_id'] = events_df_offer_completed['value'].apply(lambda x: x.get('offer_id', 'N/A'))\n",
    "events_df_offer_completed['reward'] = events_df_offer_completed['value'].apply(lambda x: x.get('reward', '0'))\n",
    "events_df_offer_completed['amount'] = events_df_offer_completed['value'].apply(lambda x: x.get('amount', '0'))"
   ]
  },
  {
   "cell_type": "code",
   "execution_count": 8,
   "metadata": {},
   "outputs": [
    {
     "name": "stdout",
     "output_type": "stream",
     "text": [
      "12658     2906b810c7d4411798c6938adc9daaa5\n",
      "12672     fafdcd668e3743c1bb461111dcafc2a4\n",
      "12679     9b98b8c7a33c4b65b9aebfe6a799e6d9\n",
      "12692     ae264e3637204a6fb9bb56bc8210ddfd\n",
      "12697     4d5c57ea9a6940dd891ad53e9dbe8da0\n",
      "                        ...               \n",
      "306475    2298d6c36e964ae4a3e7e9706d1fb8c2\n",
      "306497    2298d6c36e964ae4a3e7e9706d1fb8c2\n",
      "306506    fafdcd668e3743c1bb461111dcafc2a4\n",
      "306509    fafdcd668e3743c1bb461111dcafc2a4\n",
      "306527    fafdcd668e3743c1bb461111dcafc2a4\n",
      "Name: offer_id, Length: 33579, dtype: object\n"
     ]
    }
   ],
   "source": [
    "print(events_df_offer_completed[\"offer_id\"])"
   ]
  },
  {
   "cell_type": "code",
   "execution_count": 9,
   "metadata": {},
   "outputs": [
    {
     "name": "stderr",
     "output_type": "stream",
     "text": [
      "C:\\Users\\saika\\AppData\\Local\\Temp\\ipykernel_4976\\138683191.py:1: SettingWithCopyWarning: \n",
      "A value is trying to be set on a copy of a slice from a DataFrame.\n",
      "Try using .loc[row_indexer,col_indexer] = value instead\n",
      "\n",
      "See the caveats in the documentation: https://pandas.pydata.org/pandas-docs/stable/user_guide/indexing.html#returning-a-view-versus-a-copy\n",
      "  events_df_offer_received['offer_id'] = events_df_offer_received['value'].apply(lambda x: x.get('offer id', 'N/A'))\n",
      "C:\\Users\\saika\\AppData\\Local\\Temp\\ipykernel_4976\\138683191.py:2: SettingWithCopyWarning: \n",
      "A value is trying to be set on a copy of a slice from a DataFrame.\n",
      "Try using .loc[row_indexer,col_indexer] = value instead\n",
      "\n",
      "See the caveats in the documentation: https://pandas.pydata.org/pandas-docs/stable/user_guide/indexing.html#returning-a-view-versus-a-copy\n",
      "  events_df_offer_received['reward'] = events_df_offer_received['value'].apply(lambda x: x.get('reward', '0'))\n",
      "C:\\Users\\saika\\AppData\\Local\\Temp\\ipykernel_4976\\138683191.py:3: SettingWithCopyWarning: \n",
      "A value is trying to be set on a copy of a slice from a DataFrame.\n",
      "Try using .loc[row_indexer,col_indexer] = value instead\n",
      "\n",
      "See the caveats in the documentation: https://pandas.pydata.org/pandas-docs/stable/user_guide/indexing.html#returning-a-view-versus-a-copy\n",
      "  events_df_offer_received['amount'] = events_df_offer_received['value'].apply(lambda x: x.get('amount', '0'))\n"
     ]
    }
   ],
   "source": [
    "events_df_offer_received['offer_id'] = events_df_offer_received['value'].apply(lambda x: x.get('offer id', 'N/A'))\n",
    "events_df_offer_received['reward'] = events_df_offer_received['value'].apply(lambda x: x.get('reward', '0'))\n",
    "events_df_offer_received['amount'] = events_df_offer_received['value'].apply(lambda x: x.get('amount', '0'))"
   ]
  },
  {
   "cell_type": "code",
   "execution_count": 10,
   "metadata": {},
   "outputs": [
    {
     "name": "stderr",
     "output_type": "stream",
     "text": [
      "C:\\Users\\saika\\AppData\\Local\\Temp\\ipykernel_4976\\3793315260.py:1: SettingWithCopyWarning: \n",
      "A value is trying to be set on a copy of a slice from a DataFrame.\n",
      "Try using .loc[row_indexer,col_indexer] = value instead\n",
      "\n",
      "See the caveats in the documentation: https://pandas.pydata.org/pandas-docs/stable/user_guide/indexing.html#returning-a-view-versus-a-copy\n",
      "  events_df_offer_viewed['offer_id'] = events_df_offer_viewed['value'].apply(lambda x: x.get('offer id', 'N/A'))\n",
      "C:\\Users\\saika\\AppData\\Local\\Temp\\ipykernel_4976\\3793315260.py:2: SettingWithCopyWarning: \n",
      "A value is trying to be set on a copy of a slice from a DataFrame.\n",
      "Try using .loc[row_indexer,col_indexer] = value instead\n",
      "\n",
      "See the caveats in the documentation: https://pandas.pydata.org/pandas-docs/stable/user_guide/indexing.html#returning-a-view-versus-a-copy\n",
      "  events_df_offer_viewed['reward'] = events_df_offer_viewed['value'].apply(lambda x: x.get('reward', '0'))\n",
      "C:\\Users\\saika\\AppData\\Local\\Temp\\ipykernel_4976\\3793315260.py:3: SettingWithCopyWarning: \n",
      "A value is trying to be set on a copy of a slice from a DataFrame.\n",
      "Try using .loc[row_indexer,col_indexer] = value instead\n",
      "\n",
      "See the caveats in the documentation: https://pandas.pydata.org/pandas-docs/stable/user_guide/indexing.html#returning-a-view-versus-a-copy\n",
      "  events_df_offer_viewed['amount'] = events_df_offer_viewed['value'].apply(lambda x: x.get('amount', '0'))\n"
     ]
    }
   ],
   "source": [
    "events_df_offer_viewed['offer_id'] = events_df_offer_viewed['value'].apply(lambda x: x.get('offer id', 'N/A'))\n",
    "events_df_offer_viewed['reward'] = events_df_offer_viewed['value'].apply(lambda x: x.get('reward', '0'))\n",
    "events_df_offer_viewed['amount'] = events_df_offer_viewed['value'].apply(lambda x: x.get('amount', '0'))"
   ]
  },
  {
   "cell_type": "code",
   "execution_count": 11,
   "metadata": {},
   "outputs": [
    {
     "name": "stderr",
     "output_type": "stream",
     "text": [
      "C:\\Users\\saika\\AppData\\Local\\Temp\\ipykernel_4976\\2149434916.py:1: SettingWithCopyWarning: \n",
      "A value is trying to be set on a copy of a slice from a DataFrame.\n",
      "Try using .loc[row_indexer,col_indexer] = value instead\n",
      "\n",
      "See the caveats in the documentation: https://pandas.pydata.org/pandas-docs/stable/user_guide/indexing.html#returning-a-view-versus-a-copy\n",
      "  events_df_transaction['offer_id'] = events_df_transaction['value'].apply(lambda x: x.get('offer id', 'N/A'))\n",
      "C:\\Users\\saika\\AppData\\Local\\Temp\\ipykernel_4976\\2149434916.py:2: SettingWithCopyWarning: \n",
      "A value is trying to be set on a copy of a slice from a DataFrame.\n",
      "Try using .loc[row_indexer,col_indexer] = value instead\n",
      "\n",
      "See the caveats in the documentation: https://pandas.pydata.org/pandas-docs/stable/user_guide/indexing.html#returning-a-view-versus-a-copy\n",
      "  events_df_transaction['reward'] = events_df_transaction['value'].apply(lambda x: x.get('reward', '0'))\n",
      "C:\\Users\\saika\\AppData\\Local\\Temp\\ipykernel_4976\\2149434916.py:3: SettingWithCopyWarning: \n",
      "A value is trying to be set on a copy of a slice from a DataFrame.\n",
      "Try using .loc[row_indexer,col_indexer] = value instead\n",
      "\n",
      "See the caveats in the documentation: https://pandas.pydata.org/pandas-docs/stable/user_guide/indexing.html#returning-a-view-versus-a-copy\n",
      "  events_df_transaction['amount'] = events_df_transaction['value'].apply(lambda x: x.get('amount', '0'))\n"
     ]
    }
   ],
   "source": [
    "events_df_transaction['offer_id'] = events_df_transaction['value'].apply(lambda x: x.get('offer id', 'N/A'))\n",
    "events_df_transaction['reward'] = events_df_transaction['value'].apply(lambda x: x.get('reward', '0'))\n",
    "events_df_transaction['amount'] = events_df_transaction['value'].apply(lambda x: x.get('amount', '0'))"
   ]
  },
  {
   "cell_type": "code",
   "execution_count": 12,
   "metadata": {},
   "outputs": [
    {
     "name": "stdout",
     "output_type": "stream",
     "text": [
      "<class 'dict'>\n",
      "<class 'dict'>\n",
      "<class 'dict'>\n"
     ]
    }
   ],
   "source": [
    "print(type(events_df[\"value\"].iloc[0]))\n",
    "print(type(events_df_offer_completed[\"value\"].iloc[0]))\n",
    "print(type(events_df_offer_viewed[\"value\"].iloc[0]))"
   ]
  },
  {
   "cell_type": "code",
   "execution_count": 13,
   "metadata": {},
   "outputs": [
    {
     "name": "stdout",
     "output_type": "stream",
     "text": [
      "Index(['customer_id', 'event', 'value', 'time', 'offer_id', 'reward',\n",
      "       'amount'],\n",
      "      dtype='object')\n",
      "Index(['customer_id', 'event', 'value', 'time', 'offer_id', 'reward',\n",
      "       'amount'],\n",
      "      dtype='object')\n",
      "Index(['customer_id', 'event', 'value', 'time', 'offer_id', 'reward',\n",
      "       'amount'],\n",
      "      dtype='object')\n",
      "Index(['customer_id', 'event', 'value', 'time', 'offer_id', 'reward',\n",
      "       'amount'],\n",
      "      dtype='object')\n"
     ]
    }
   ],
   "source": [
    "print(events_df_offer_received.columns)\n",
    "print(events_df_offer_viewed.columns)\n",
    "print(events_df_transaction.columns)\n",
    "print(events_df_offer_completed.columns)"
   ]
  },
  {
   "cell_type": "code",
   "execution_count": 14,
   "metadata": {},
   "outputs": [
    {
     "name": "stdout",
     "output_type": "stream",
     "text": [
      "                        customer_id           event  \\\n",
      "0  78afa995795e4d85b5d9ceeca43f5fef  offer received   \n",
      "1  a03223e636434f42ac4c3df47e8bac43  offer received   \n",
      "2  e2127556f4f64592b11af22de27a7932  offer received   \n",
      "3  8ec6ce2a7e7949b1bf142def7d0e0586  offer received   \n",
      "4  68617ca6246f4fbc85e91a2a49552598  offer received   \n",
      "\n",
      "                                              value  time  \\\n",
      "0  {'offer id': '9b98b8c7a33c4b65b9aebfe6a799e6d9'}     0   \n",
      "1  {'offer id': '0b1e1539f2cc45b7b9fa7c272da2e1d7'}     0   \n",
      "2  {'offer id': '2906b810c7d4411798c6938adc9daaa5'}     0   \n",
      "3  {'offer id': 'fafdcd668e3743c1bb461111dcafc2a4'}     0   \n",
      "4  {'offer id': '4d5c57ea9a6940dd891ad53e9dbe8da0'}     0   \n",
      "\n",
      "                           offer_id reward amount  \n",
      "0  9b98b8c7a33c4b65b9aebfe6a799e6d9      0      0  \n",
      "1  0b1e1539f2cc45b7b9fa7c272da2e1d7      0      0  \n",
      "2  2906b810c7d4411798c6938adc9daaa5      0      0  \n",
      "3  fafdcd668e3743c1bb461111dcafc2a4      0      0  \n",
      "4  4d5c57ea9a6940dd891ad53e9dbe8da0      0      0  \n"
     ]
    }
   ],
   "source": [
    "# Union of all 4 dataframes to create a combined dataframe\n",
    "adjusted_events_df = pd.concat([events_df_offer_received, events_df_offer_viewed, events_df_transaction, events_df_offer_completed], axis=0, ignore_index=True)\n",
    "print(adjusted_events_df.head(5))"
   ]
  },
  {
   "cell_type": "code",
   "execution_count": 15,
   "metadata": {},
   "outputs": [],
   "source": [
    "# Drop value column as its fields are already extracted and removing duplicates as well\n",
    "adjusted_events_df.drop('value', axis=1, inplace=True)"
   ]
  },
  {
   "cell_type": "code",
   "execution_count": 16,
   "metadata": {},
   "outputs": [
    {
     "name": "stdout",
     "output_type": "stream",
     "text": [
      "                        customer_id           event  time  \\\n",
      "0  78afa995795e4d85b5d9ceeca43f5fef  offer received     0   \n",
      "1  a03223e636434f42ac4c3df47e8bac43  offer received     0   \n",
      "2  e2127556f4f64592b11af22de27a7932  offer received     0   \n",
      "3  8ec6ce2a7e7949b1bf142def7d0e0586  offer received     0   \n",
      "4  68617ca6246f4fbc85e91a2a49552598  offer received     0   \n",
      "\n",
      "                           offer_id reward amount  \n",
      "0  9b98b8c7a33c4b65b9aebfe6a799e6d9      0      0  \n",
      "1  0b1e1539f2cc45b7b9fa7c272da2e1d7      0      0  \n",
      "2  2906b810c7d4411798c6938adc9daaa5      0      0  \n",
      "3  fafdcd668e3743c1bb461111dcafc2a4      0      0  \n",
      "4  4d5c57ea9a6940dd891ad53e9dbe8da0      0      0  \n"
     ]
    }
   ],
   "source": [
    "adjusted_events_df = adjusted_events_df.drop_duplicates()\n",
    "print(adjusted_events_df.head(5))"
   ]
  },
  {
   "cell_type": "code",
   "execution_count": 17,
   "metadata": {},
   "outputs": [],
   "source": [
    "# Save the new dataframe to a new csv\n",
    "adjusted_csv_file_path = \"./adjusted_events.csv\"\n",
    "adjusted_events_df.to_csv(adjusted_csv_file_path, index=False, header=True)"
   ]
  }
 ],
 "metadata": {
  "kernelspec": {
   "display_name": "Python 3",
   "language": "python",
   "name": "python3"
  },
  "language_info": {
   "codemirror_mode": {
    "name": "ipython",
    "version": 3
   },
   "file_extension": ".py",
   "mimetype": "text/x-python",
   "name": "python",
   "nbconvert_exporter": "python",
   "pygments_lexer": "ipython3",
   "version": "3.12.7"
  }
 },
 "nbformat": 4,
 "nbformat_minor": 2
}
