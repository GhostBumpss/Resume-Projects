{
 "cells": [
  {
   "cell_type": "code",
   "execution_count": 34,
   "metadata": {},
   "outputs": [],
   "source": [
    "import numpy as np\n",
    "import pandas as pd\n",
    "import ast"
   ]
  },
  {
   "cell_type": "code",
   "execution_count": 55,
   "metadata": {},
   "outputs": [
    {
     "name": "stdout",
     "output_type": "stream",
     "text": [
      "                        customer_id           event  \\\n",
      "0  78afa995795e4d85b5d9ceeca43f5fef  offer received   \n",
      "1  a03223e636434f42ac4c3df47e8bac43  offer received   \n",
      "2  e2127556f4f64592b11af22de27a7932  offer received   \n",
      "3  8ec6ce2a7e7949b1bf142def7d0e0586  offer received   \n",
      "4  68617ca6246f4fbc85e91a2a49552598  offer received   \n",
      "\n",
      "                                              value  time  \n",
      "0  {'offer id': '9b98b8c7a33c4b65b9aebfe6a799e6d9'}     0  \n",
      "1  {'offer id': '0b1e1539f2cc45b7b9fa7c272da2e1d7'}     0  \n",
      "2  {'offer id': '2906b810c7d4411798c6938adc9daaa5'}     0  \n",
      "3  {'offer id': 'fafdcd668e3743c1bb461111dcafc2a4'}     0  \n",
      "4  {'offer id': '4d5c57ea9a6940dd891ad53e9dbe8da0'}     0  \n"
     ]
    }
   ],
   "source": [
    "events_df = pd.read_csv(\"./events.csv\", header=0)\n",
    "print(events_df.head(n=5))"
   ]
  },
  {
   "cell_type": "code",
   "execution_count": 36,
   "metadata": {},
   "outputs": [
    {
     "name": "stdout",
     "output_type": "stream",
     "text": [
      "['offer received' 'offer viewed' 'transaction' 'offer completed']\n",
      "<class 'numpy.ndarray'>\n"
     ]
    }
   ],
   "source": [
    "distinct_events = events_df[\"event\"].unique()\n",
    "# for value in distinct_events:\n",
    "#     filtered_event_df = events_df[events_df[\"event\"]==value]\n",
    "#     print(filtered_event_df.head(n=10))\n",
    "print(distinct_events)\n",
    "print(type(distinct_events))\n",
    "# print(distinct_events[1])"
   ]
  },
  {
   "cell_type": "code",
   "execution_count": 37,
   "metadata": {},
   "outputs": [],
   "source": [
    "events_df_offer_received = events_df[events_df[\"event\"]==distinct_events[0]]\n",
    "events_df_offer_viewed = events_df[events_df[\"event\"]==distinct_events[1]]\n",
    "events_df_transaction = events_df[events_df[\"event\"]==distinct_events[2]]\n",
    "events_df_offer_completed = events_df[events_df[\"event\"]==distinct_events[3]]"
   ]
  },
  {
   "cell_type": "code",
   "execution_count": 38,
   "metadata": {},
   "outputs": [
    {
     "name": "stdout",
     "output_type": "stream",
     "text": [
      "<class 'str'>\n",
      "{'offer_id': '2906b810c7d4411798c6938adc9daaa5', 'reward': 2}\n"
     ]
    }
   ],
   "source": [
    "print(type(events_df_offer_completed[\"value\"].iloc[0]))\n",
    "print(events_df_offer_completed[\"value\"].iloc[0])"
   ]
  },
  {
   "cell_type": "code",
   "execution_count": 39,
   "metadata": {},
   "outputs": [
    {
     "name": "stderr",
     "output_type": "stream",
     "text": [
      "C:\\Users\\Saikat\\AppData\\Local\\Temp\\ipykernel_8092\\626928429.py:2: SettingWithCopyWarning: \n",
      "A value is trying to be set on a copy of a slice from a DataFrame.\n",
      "Try using .loc[row_indexer,col_indexer] = value instead\n",
      "\n",
      "See the caveats in the documentation: https://pandas.pydata.org/pandas-docs/stable/user_guide/indexing.html#returning-a-view-versus-a-copy\n",
      "  events_df_offer_completed['value'] = events_df_offer_completed['value'].apply(lambda x: ast.literal_eval(x))\n"
     ]
    }
   ],
   "source": [
    "# converting string to dictionary\n",
    "events_df_offer_completed['value'] = events_df_offer_completed['value'].apply(lambda x: ast.literal_eval(x))\n",
    "# events_df_offer_completed['reward'] = events_df_offer_completed['value'].apply(lambda x: x.get('reward', None))"
   ]
  },
  {
   "cell_type": "code",
   "execution_count": 40,
   "metadata": {},
   "outputs": [
    {
     "name": "stdout",
     "output_type": "stream",
     "text": [
      "12658     {'offer_id': '2906b810c7d4411798c6938adc9daaa5...\n",
      "12672     {'offer_id': 'fafdcd668e3743c1bb461111dcafc2a4...\n",
      "12679     {'offer_id': '9b98b8c7a33c4b65b9aebfe6a799e6d9...\n",
      "12692     {'offer_id': 'ae264e3637204a6fb9bb56bc8210ddfd...\n",
      "12697     {'offer_id': '4d5c57ea9a6940dd891ad53e9dbe8da0...\n",
      "                                ...                        \n",
      "306475    {'offer_id': '2298d6c36e964ae4a3e7e9706d1fb8c2...\n",
      "306497    {'offer_id': '2298d6c36e964ae4a3e7e9706d1fb8c2...\n",
      "306506    {'offer_id': 'fafdcd668e3743c1bb461111dcafc2a4...\n",
      "306509    {'offer_id': 'fafdcd668e3743c1bb461111dcafc2a4...\n",
      "306527    {'offer_id': 'fafdcd668e3743c1bb461111dcafc2a4...\n",
      "Name: offer_id, Length: 33579, dtype: object\n",
      "<class 'pandas.core.series.Series'>\n",
      "<class 'dict'>\n",
      "{'offer_id': '2906b810c7d4411798c6938adc9daaa5', 'reward': 2}\n"
     ]
    },
    {
     "name": "stderr",
     "output_type": "stream",
     "text": [
      "C:\\Users\\Saikat\\AppData\\Local\\Temp\\ipykernel_8092\\1054736390.py:1: SettingWithCopyWarning: \n",
      "A value is trying to be set on a copy of a slice from a DataFrame.\n",
      "Try using .loc[row_indexer,col_indexer] = value instead\n",
      "\n",
      "See the caveats in the documentation: https://pandas.pydata.org/pandas-docs/stable/user_guide/indexing.html#returning-a-view-versus-a-copy\n",
      "  events_df_offer_completed['offer_id'] = events_df_offer_completed['value']\n"
     ]
    }
   ],
   "source": [
    "events_df_offer_completed['offer_id'] = events_df_offer_completed['value']\n",
    "print(events_df_offer_completed['offer_id'])\n",
    "print(type(events_df_offer_completed['offer_id']))\n",
    "print(type(events_df_offer_completed['offer_id'].iloc[0]))\n",
    "print(events_df_offer_completed['offer_id'].iloc[0])"
   ]
  },
  {
   "cell_type": "code",
   "execution_count": 41,
   "metadata": {},
   "outputs": [
    {
     "name": "stdout",
     "output_type": "stream",
     "text": [
      "2906b810c7d4411798c6938adc9daaa5\n"
     ]
    }
   ],
   "source": [
    "print(events_df_offer_completed['offer_id'].iloc[0].get('offer_id', 'N/A'))"
   ]
  },
  {
   "cell_type": "code",
   "execution_count": 42,
   "metadata": {},
   "outputs": [
    {
     "name": "stderr",
     "output_type": "stream",
     "text": [
      "C:\\Users\\Saikat\\AppData\\Local\\Temp\\ipykernel_8092\\2351860209.py:1: SettingWithCopyWarning: \n",
      "A value is trying to be set on a copy of a slice from a DataFrame.\n",
      "Try using .loc[row_indexer,col_indexer] = value instead\n",
      "\n",
      "See the caveats in the documentation: https://pandas.pydata.org/pandas-docs/stable/user_guide/indexing.html#returning-a-view-versus-a-copy\n",
      "  events_df_offer_completed['offer_id'] = events_df_offer_completed['value'].apply(lambda x: x.get('offer_id', 'N/A'))\n",
      "C:\\Users\\Saikat\\AppData\\Local\\Temp\\ipykernel_8092\\2351860209.py:2: SettingWithCopyWarning: \n",
      "A value is trying to be set on a copy of a slice from a DataFrame.\n",
      "Try using .loc[row_indexer,col_indexer] = value instead\n",
      "\n",
      "See the caveats in the documentation: https://pandas.pydata.org/pandas-docs/stable/user_guide/indexing.html#returning-a-view-versus-a-copy\n",
      "  events_df_offer_completed['reward'] = events_df_offer_completed['value'].apply(lambda x: x.get('reward', '0'))\n"
     ]
    }
   ],
   "source": [
    "events_df_offer_completed['offer_id'] = events_df_offer_completed['value'].apply(lambda x: x.get('offer_id', 'N/A'))\n",
    "events_df_offer_completed['reward'] = events_df_offer_completed['value'].apply(lambda x: x.get('reward', '0'))"
   ]
  },
  {
   "cell_type": "code",
   "execution_count": 43,
   "metadata": {},
   "outputs": [
    {
     "name": "stdout",
     "output_type": "stream",
     "text": [
      "12658     2906b810c7d4411798c6938adc9daaa5\n",
      "12672     fafdcd668e3743c1bb461111dcafc2a4\n",
      "12679     9b98b8c7a33c4b65b9aebfe6a799e6d9\n",
      "12692     ae264e3637204a6fb9bb56bc8210ddfd\n",
      "12697     4d5c57ea9a6940dd891ad53e9dbe8da0\n",
      "                        ...               \n",
      "306475    2298d6c36e964ae4a3e7e9706d1fb8c2\n",
      "306497    2298d6c36e964ae4a3e7e9706d1fb8c2\n",
      "306506    fafdcd668e3743c1bb461111dcafc2a4\n",
      "306509    fafdcd668e3743c1bb461111dcafc2a4\n",
      "306527    fafdcd668e3743c1bb461111dcafc2a4\n",
      "Name: offer_id, Length: 33579, dtype: object\n",
      "12658      2\n",
      "12672      2\n",
      "12679      5\n",
      "12692     10\n",
      "12697     10\n",
      "          ..\n",
      "306475     3\n",
      "306497     3\n",
      "306506     2\n",
      "306509     2\n",
      "306527     2\n",
      "Name: reward, Length: 33579, dtype: int64\n"
     ]
    }
   ],
   "source": [
    "print(events_df_offer_completed['offer_id'])\n",
    "print(events_df_offer_completed['reward'])"
   ]
  },
  {
   "cell_type": "code",
   "execution_count": 44,
   "metadata": {},
   "outputs": [
    {
     "name": "stdout",
     "output_type": "stream",
     "text": [
      "Index(['customer_id', 'event', 'value', 'time', 'offer_id', 'reward'], dtype='object')\n"
     ]
    }
   ],
   "source": [
    "print(events_df_offer_completed.columns)"
   ]
  },
  {
   "cell_type": "code",
   "execution_count": 45,
   "metadata": {},
   "outputs": [
    {
     "name": "stdout",
     "output_type": "stream",
     "text": [
      "                             customer_id           event  \\\n",
      "0       78afa995795e4d85b5d9ceeca43f5fef  offer received   \n",
      "1       a03223e636434f42ac4c3df47e8bac43  offer received   \n",
      "2       e2127556f4f64592b11af22de27a7932  offer received   \n",
      "3       8ec6ce2a7e7949b1bf142def7d0e0586  offer received   \n",
      "4       68617ca6246f4fbc85e91a2a49552598  offer received   \n",
      "...                                  ...             ...   \n",
      "257882  d087c473b4d247ccb0abfef59ba12b0e  offer received   \n",
      "257883  cb23b66c56f64b109d673d5e56574529  offer received   \n",
      "257884  6d5f3a774f3d4714ab0c092238f3a1d7  offer received   \n",
      "257885  9dc1421481194dcd9400aec7c9ae6366  offer received   \n",
      "257886  e4052622e5ba45a8b96b59aba68cf068  offer received   \n",
      "\n",
      "                                                   value  time  \n",
      "0       {'offer id': '9b98b8c7a33c4b65b9aebfe6a799e6d9'}     0  \n",
      "1       {'offer id': '0b1e1539f2cc45b7b9fa7c272da2e1d7'}     0  \n",
      "2       {'offer id': '2906b810c7d4411798c6938adc9daaa5'}     0  \n",
      "3       {'offer id': 'fafdcd668e3743c1bb461111dcafc2a4'}     0  \n",
      "4       {'offer id': '4d5c57ea9a6940dd891ad53e9dbe8da0'}     0  \n",
      "...                                                  ...   ...  \n",
      "257882  {'offer id': 'ae264e3637204a6fb9bb56bc8210ddfd'}   576  \n",
      "257883  {'offer id': '2906b810c7d4411798c6938adc9daaa5'}   576  \n",
      "257884  {'offer id': '2298d6c36e964ae4a3e7e9706d1fb8c2'}   576  \n",
      "257885  {'offer id': 'ae264e3637204a6fb9bb56bc8210ddfd'}   576  \n",
      "257886  {'offer id': '3f207df678b143eea3cee63160fa8bed'}   576  \n",
      "\n",
      "[76277 rows x 4 columns]\n"
     ]
    }
   ],
   "source": [
    "print(events_df_offer_received)"
   ]
  },
  {
   "cell_type": "code",
   "execution_count": 46,
   "metadata": {},
   "outputs": [
    {
     "name": "stderr",
     "output_type": "stream",
     "text": [
      "C:\\Users\\Saikat\\AppData\\Local\\Temp\\ipykernel_8092\\2915784088.py:1: SettingWithCopyWarning: \n",
      "A value is trying to be set on a copy of a slice from a DataFrame.\n",
      "Try using .loc[row_indexer,col_indexer] = value instead\n",
      "\n",
      "See the caveats in the documentation: https://pandas.pydata.org/pandas-docs/stable/user_guide/indexing.html#returning-a-view-versus-a-copy\n",
      "  events_df_offer_received['value'] = events_df_offer_received['value'].apply(lambda x: ast.literal_eval(x))\n",
      "C:\\Users\\Saikat\\AppData\\Local\\Temp\\ipykernel_8092\\2915784088.py:2: SettingWithCopyWarning: \n",
      "A value is trying to be set on a copy of a slice from a DataFrame.\n",
      "Try using .loc[row_indexer,col_indexer] = value instead\n",
      "\n",
      "See the caveats in the documentation: https://pandas.pydata.org/pandas-docs/stable/user_guide/indexing.html#returning-a-view-versus-a-copy\n",
      "  events_df_offer_received['offer_id'] = events_df_offer_received['value'].apply(lambda x: x.get('offer id', 'N/A'))\n"
     ]
    }
   ],
   "source": [
    "events_df_offer_received['value'] = events_df_offer_received['value'].apply(lambda x: ast.literal_eval(x))\n",
    "events_df_offer_received['offer_id'] = events_df_offer_received['value'].apply(lambda x: x.get('offer id', 'N/A'))"
   ]
  },
  {
   "cell_type": "code",
   "execution_count": 47,
   "metadata": {},
   "outputs": [
    {
     "name": "stdout",
     "output_type": "stream",
     "text": [
      "Index(['customer_id', 'event', 'value', 'time', 'offer_id'], dtype='object')\n",
      "0         9b98b8c7a33c4b65b9aebfe6a799e6d9\n",
      "1         0b1e1539f2cc45b7b9fa7c272da2e1d7\n",
      "2         2906b810c7d4411798c6938adc9daaa5\n",
      "3         fafdcd668e3743c1bb461111dcafc2a4\n",
      "4         4d5c57ea9a6940dd891ad53e9dbe8da0\n",
      "                        ...               \n",
      "257882    ae264e3637204a6fb9bb56bc8210ddfd\n",
      "257883    2906b810c7d4411798c6938adc9daaa5\n",
      "257884    2298d6c36e964ae4a3e7e9706d1fb8c2\n",
      "257885    ae264e3637204a6fb9bb56bc8210ddfd\n",
      "257886    3f207df678b143eea3cee63160fa8bed\n",
      "Name: offer_id, Length: 76277, dtype: object\n"
     ]
    }
   ],
   "source": [
    "print(events_df_offer_received.columns)\n",
    "print(events_df_offer_received['offer_id'])"
   ]
  },
  {
   "cell_type": "code",
   "execution_count": 48,
   "metadata": {},
   "outputs": [
    {
     "name": "stdout",
     "output_type": "stream",
     "text": [
      "                            customer_id         event  \\\n",
      "12650  389bc3fa690240e798340f5a15918d5c  offer viewed   \n",
      "12651  d1ede868e29245ea91818a903fec04c6  offer viewed   \n",
      "12652  102e9454054946fda62242d2e176fdce  offer viewed   \n",
      "12653  02c083884c7d45b39cc68e1314fec56c  offer viewed   \n",
      "12655  be8a5d1981a2458d90b255ddc7e0d174  offer viewed   \n",
      "\n",
      "                                                  value  time  \n",
      "12650  {'offer id': 'f19421c1d4aa40978ebb69ca19b0e20d'}     0  \n",
      "12651  {'offer id': '5a8bc65990b245e5a138643cd4eb9837'}     0  \n",
      "12652  {'offer id': '4d5c57ea9a6940dd891ad53e9dbe8da0'}     0  \n",
      "12653  {'offer id': 'ae264e3637204a6fb9bb56bc8210ddfd'}     0  \n",
      "12655  {'offer id': '5a8bc65990b245e5a138643cd4eb9837'}     0  \n"
     ]
    }
   ],
   "source": [
    "print(events_df_offer_viewed.head(5))"
   ]
  },
  {
   "cell_type": "code",
   "execution_count": 49,
   "metadata": {},
   "outputs": [
    {
     "name": "stderr",
     "output_type": "stream",
     "text": [
      "C:\\Users\\Saikat\\AppData\\Local\\Temp\\ipykernel_8092\\2213093095.py:1: SettingWithCopyWarning: \n",
      "A value is trying to be set on a copy of a slice from a DataFrame.\n",
      "Try using .loc[row_indexer,col_indexer] = value instead\n",
      "\n",
      "See the caveats in the documentation: https://pandas.pydata.org/pandas-docs/stable/user_guide/indexing.html#returning-a-view-versus-a-copy\n",
      "  events_df_offer_viewed['value'] = events_df_offer_viewed['value'].apply(lambda x: ast.literal_eval(x))\n",
      "C:\\Users\\Saikat\\AppData\\Local\\Temp\\ipykernel_8092\\2213093095.py:2: SettingWithCopyWarning: \n",
      "A value is trying to be set on a copy of a slice from a DataFrame.\n",
      "Try using .loc[row_indexer,col_indexer] = value instead\n",
      "\n",
      "See the caveats in the documentation: https://pandas.pydata.org/pandas-docs/stable/user_guide/indexing.html#returning-a-view-versus-a-copy\n",
      "  events_df_offer_viewed['offer_id'] = events_df_offer_viewed['value'].apply(lambda x: x.get('offer id', 'N/A'))\n"
     ]
    }
   ],
   "source": [
    "events_df_offer_viewed['value'] = events_df_offer_viewed['value'].apply(lambda x: ast.literal_eval(x))\n",
    "events_df_offer_viewed['offer_id'] = events_df_offer_viewed['value'].apply(lambda x: x.get('offer id', 'N/A'))"
   ]
  },
  {
   "cell_type": "code",
   "execution_count": 50,
   "metadata": {},
   "outputs": [
    {
     "name": "stdout",
     "output_type": "stream",
     "text": [
      "12650     f19421c1d4aa40978ebb69ca19b0e20d\n",
      "12651     5a8bc65990b245e5a138643cd4eb9837\n",
      "12652     4d5c57ea9a6940dd891ad53e9dbe8da0\n",
      "12653     ae264e3637204a6fb9bb56bc8210ddfd\n",
      "12655     5a8bc65990b245e5a138643cd4eb9837\n",
      "                        ...               \n",
      "306441    5a8bc65990b245e5a138643cd4eb9837\n",
      "306450    3f207df678b143eea3cee63160fa8bed\n",
      "306483    5a8bc65990b245e5a138643cd4eb9837\n",
      "306490    3f207df678b143eea3cee63160fa8bed\n",
      "306507    0b1e1539f2cc45b7b9fa7c272da2e1d7\n",
      "Name: offer_id, Length: 57725, dtype: object\n"
     ]
    }
   ],
   "source": [
    "print(events_df_offer_viewed['offer_id'])"
   ]
  },
  {
   "cell_type": "code",
   "execution_count": 51,
   "metadata": {},
   "outputs": [
    {
     "name": "stdout",
     "output_type": "stream",
     "text": [
      "{'amount': 0.8300000000000001}\n"
     ]
    }
   ],
   "source": [
    "print(events_df_transaction['value'].iloc[0])"
   ]
  },
  {
   "cell_type": "code",
   "execution_count": 53,
   "metadata": {},
   "outputs": [
    {
     "name": "stderr",
     "output_type": "stream",
     "text": [
      "C:\\Users\\Saikat\\AppData\\Local\\Temp\\ipykernel_8092\\2482873819.py:2: SettingWithCopyWarning: \n",
      "A value is trying to be set on a copy of a slice from a DataFrame.\n",
      "Try using .loc[row_indexer,col_indexer] = value instead\n",
      "\n",
      "See the caveats in the documentation: https://pandas.pydata.org/pandas-docs/stable/user_guide/indexing.html#returning-a-view-versus-a-copy\n",
      "  events_df_transaction['amount'] = events_df_transaction['value'].apply(lambda x: x.get('amount', 'N/A'))\n"
     ]
    }
   ],
   "source": [
    "events_df_transaction['value'] = events_df_transaction['value'].apply(lambda x: ast.literal_eval(x))\n",
    "events_df_transaction['amount'] = events_df_transaction['value'].apply(lambda x: x.get('amount', 'N/A'))"
   ]
  },
  {
   "cell_type": "code",
   "execution_count": 54,
   "metadata": {},
   "outputs": [
    {
     "name": "stdout",
     "output_type": "stream",
     "text": [
      "12654      0.83\n",
      "12657     34.56\n",
      "12659     13.23\n",
      "12670     19.51\n",
      "12671     18.97\n",
      "          ...  \n",
      "306529     1.59\n",
      "306530     9.53\n",
      "306531     3.61\n",
      "306532     3.53\n",
      "306533     4.05\n",
      "Name: amount, Length: 138953, dtype: float64\n"
     ]
    }
   ],
   "source": [
    "print(events_df_transaction['amount'])"
   ]
  }
 ],
 "metadata": {
  "kernelspec": {
   "display_name": "Python 3",
   "language": "python",
   "name": "python3"
  },
  "language_info": {
   "codemirror_mode": {
    "name": "ipython",
    "version": 3
   },
   "file_extension": ".py",
   "mimetype": "text/x-python",
   "name": "python",
   "nbconvert_exporter": "python",
   "pygments_lexer": "ipython3",
   "version": "3.12.4"
  }
 },
 "nbformat": 4,
 "nbformat_minor": 2
}
